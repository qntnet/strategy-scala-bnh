{
 "cells": [
  {
   "cell_type": "markdown",
   "metadata": {},
   "source": [
    "# Scala BNH"
   ]
  },
  {
   "cell_type": "code",
   "execution_count": null,
   "metadata": {},
   "outputs": [],
   "source": [
    "interp.load.ivy(\"ai.quantnet\" %% \"qnt-scala\" % System.getenv(\"QNT_SCALA_VERSION\"))"
   ]
  },
  {
   "cell_type": "code",
   "execution_count": null,
   "metadata": {},
   "outputs": [],
   "source": [
    "import ai.{quantnet => qn }\n",
    "import java.time.LocalDate"
   ]
  },
  {
   "cell_type": "code",
   "execution_count": null,
   "metadata": {},
   "outputs": [],
   "source": [
    "val dateFrom = LocalDate.of(2015, 1, 1)\n",
    "val dateTo = LocalDate.now"
   ]
  },
  {
   "cell_type": "code",
   "execution_count": null,
   "metadata": {},
   "outputs": [],
   "source": [
    "val assetInfos = qn.data.loadStockList(dateFrom, dateTo)"
   ]
  },
  {
   "cell_type": "code",
   "execution_count": null,
   "metadata": {},
   "outputs": [],
   "source": [
    "val series = qn.data.loadStockDailySeries(assetInfos.map(_.id), dateFrom, dateTo)"
   ]
  },
  {
   "cell_type": "code",
   "execution_count": null,
   "metadata": {},
   "outputs": [],
   "source": [
    "val liquid = series(qn.data.fields.is_liquid)"
   ]
  },
  {
   "cell_type": "code",
   "execution_count": null,
   "metadata": {},
   "outputs": [],
   "source": [
    "liquid.toString()"
   ]
  },
  {
   "cell_type": "code",
   "execution_count": null,
   "metadata": {},
   "outputs": [],
   "source": [
    "val output = liquid.fillLike(0d)\n",
    "for(ri <- liquid.rowIdx.indices) {\n",
    "    var sum = 0d\n",
    "    for(ci <- liquid.colIdx.indices) {\n",
    "        val v = liquid.data(ri, ci)\n",
    "        if(v.isFinite) {\n",
    "            sum += math.abs(v)\n",
    "        }\n",
    "    }\n",
    "    if(sum < 1) {\n",
    "        sum = 1\n",
    "    }\n",
    "    for(ci <- liquid.colIdx.indices) {\n",
    "        output.data(ri, ci) = liquid.data(ri, ci) / sum\n",
    "    }\n",
    "}\n",
    "output.toString"
   ]
  },
  {
   "cell_type": "code",
   "execution_count": null,
   "metadata": {},
   "outputs": [],
   "source": [
    "val stat = qn.stats.calcStats(series, output)\n",
    "stat.toString()"
   ]
  },
  {
   "cell_type": "code",
   "execution_count": null,
   "metadata": {},
   "outputs": [],
   "source": [
    "val rr = stat.colOps.get(qn.stats.fields.relativeReturn)"
   ]
  },
  {
   "cell_type": "code",
   "execution_count": null,
   "metadata": {},
   "outputs": [],
   "source": [
    "qn.stats.calcCorrelation(rr)"
   ]
  },
  {
   "cell_type": "code",
   "execution_count": null,
   "metadata": {},
   "outputs": [],
   "source": [
    "qn.data.writeOutput(output)"
   ]
  },
  {
   "cell_type": "code",
   "execution_count": null,
   "metadata": {},
   "outputs": [],
   "source": [
    "interp.load.ivy(\"org.plotly-scala\" %% \"plotly-almond\" % System.getenv(\"PLOTLY_ALMOND_VERSION\"))\n",
    "import plotly._, plotly.element._, plotly.layout._, plotly.Almond._\n",
    "// restrict the output height to avoid scrolling in output cells\n",
    "repl.pprinter() = repl.pprinter().copy(defaultHeight = 3)"
   ]
  },
  {
   "cell_type": "code",
   "execution_count": null,
   "metadata": {},
   "outputs": [],
   "source": [
    "val sharpe = stat.colOps.get(qn.stats.fields.sharpeRatio)"
   ]
  },
  {
   "cell_type": "code",
   "execution_count": null,
   "metadata": {},
   "outputs": [],
   "source": [
    "val trace1 = Scatter(\n",
    "  sharpe.idx.map(i=>i.toString).toSeq,\n",
    "  sharpe.data.toArray.toSeq\n",
    ")\n",
    "\n",
    "val data = Seq(trace1)\n",
    "\n",
    "plot(data)"
   ]
  }
 ],
 "metadata": {
  "kernelspec": {
   "display_name": "Scala",
   "language": "scala",
   "name": "scala"
  },
  "language_info": {
   "codemirror_mode": "text/x-scala",
   "file_extension": ".scala",
   "mimetype": "text/x-scala",
   "name": "scala",
   "nbconvert_exporter": "script",
   "version": "2.13.1"
  }
 },
 "nbformat": 4,
 "nbformat_minor": 2
}
